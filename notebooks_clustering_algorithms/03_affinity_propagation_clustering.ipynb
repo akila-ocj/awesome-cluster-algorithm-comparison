{
 "cells": [
  {
   "cell_type": "code",
   "outputs": [
    {
     "name": "stdout",
     "output_type": "stream",
     "text": [
      "The autoreload extension is already loaded. To reload it, use:\n",
      "  %reload_ext autoreload\n"
     ]
    }
   ],
   "source": [
    "%load_ext autoreload\n",
    "%autoreload 2"
   ],
   "metadata": {
    "collapsed": false,
    "ExecuteTime": {
     "end_time": "2024-02-19T09:52:52.765111900Z",
     "start_time": "2024-02-19T09:52:52.678861800Z"
    }
   },
   "id": "bd0687dbc641c099",
   "execution_count": 31
  },
  {
   "cell_type": "code",
   "outputs": [],
   "source": [
    "from collections import Counter\n",
    "from sklearn.cluster import AffinityPropagation\n",
    "from sklearn.preprocessing import StandardScaler\n",
    "from sklearn.metrics import pairwise_distances\n",
    "import pandas as pd\n",
    "from src.utils_clustering import *\n",
    "import time"
   ],
   "metadata": {
    "collapsed": true,
    "ExecuteTime": {
     "end_time": "2024-02-19T09:52:52.810320Z",
     "start_time": "2024-02-19T09:52:52.769098300Z"
    }
   },
   "id": "initial_id",
   "execution_count": 32
  },
  {
   "cell_type": "code",
   "outputs": [],
   "source": [
    "N_CLASSES = 15"
   ],
   "metadata": {
    "collapsed": false,
    "ExecuteTime": {
     "end_time": "2024-02-19T09:52:52.858015400Z",
     "start_time": "2024-02-19T09:52:52.812820700Z"
    }
   },
   "id": "c944c605edf984db",
   "execution_count": 33
  },
  {
   "cell_type": "code",
   "outputs": [],
   "source": [
    "DATASET_FILE_NAME = \"b2\"\n",
    "file_path = rf'..\\data\\processed\\{DATASET_FILE_NAME}.txt'\n",
    "processed_data = pd.read_csv(file_path)"
   ],
   "metadata": {
    "collapsed": false,
    "ExecuteTime": {
     "end_time": "2024-02-19T09:52:52.949167Z",
     "start_time": "2024-02-19T09:52:52.859011700Z"
    }
   },
   "id": "2ea9464f02e6b223",
   "execution_count": 34
  },
  {
   "cell_type": "code",
   "outputs": [],
   "source": [
    "# Scale the data\n",
    "scaler = StandardScaler()\n",
    "scaled_data = scaler.fit_transform(processed_data)"
   ],
   "metadata": {
    "collapsed": false,
    "ExecuteTime": {
     "end_time": "2024-02-19T09:52:52.994347100Z",
     "start_time": "2024-02-19T09:52:52.950138200Z"
    }
   },
   "id": "9f66043c62031545",
   "execution_count": 35
  },
  {
   "cell_type": "code",
   "outputs": [],
   "source": [
    "# Calculate the preference\n",
    "# This uses the median of the pairwise distances as a starting point\n",
    "# You might need to adjust this based on the performance\n",
    "pairwise_dist = pairwise_distances(processed_data)\n",
    "preference = np.percentile(pairwise_dist, 50) * -1 \n",
    "print(preference)"
   ],
   "metadata": {
    "collapsed": false,
    "is_executing": true,
    "ExecuteTime": {
     "start_time": "2024-02-19T09:52:52.995345400Z"
    }
   },
   "id": "813e967c3b381975",
   "execution_count": null
  },
  {
   "cell_type": "code",
   "outputs": [],
   "source": [
    "# Start measuring time\n",
    "start_time = time.time()\n",
    "\n",
    "affinity_propagation_clustering = AffinityPropagation(\n",
    "    preference=preference,\n",
    "    damping=0.9,  # Adjust damping factor as needed\n",
    "    max_iter=2000,  # Increased max iterations\n",
    "    convergence_iter=30,  # Increased convergence iterations for more stability\n",
    "    random_state=42\n",
    ")\n",
    "\n",
    "labels_pred = affinity_propagation_clustering.fit_predict(processed_data)\n",
    "\n",
    "# Measure elapsed time\n",
    "end_time = time.time()\n",
    "running_time = end_time - start_time\n",
    "running_time_in_seconds = running_time / 60\n",
    "running_time_in_seconds"
   ],
   "metadata": {
    "collapsed": false,
    "is_executing": true
   },
   "id": "9d105110133ccd5e",
   "execution_count": null
  },
  {
   "cell_type": "code",
   "outputs": [],
   "source": [
    "cluster_distribution = Counter(labels_pred)\n",
    "print(\"Predicted Distribution: \",cluster_distribution)"
   ],
   "metadata": {
    "collapsed": false,
    "is_executing": true
   },
   "id": "f6494a2f1aca9799",
   "execution_count": null
  },
  {
   "cell_type": "code",
   "outputs": [],
   "source": [
    "LABELS_FILE_NAME = 's1-label'\n",
    "labels_true = load_labels_from_file(rf'..\\data\\label\\{LABELS_FILE_NAME}.pa', len(labels_pred))\n",
    "cluster_distribution = Counter(labels_true)\n",
    "print(cluster_distribution)"
   ],
   "metadata": {
    "collapsed": false,
    "is_executing": true
   },
   "id": "b02c2d836aeb065b",
   "execution_count": null
  },
  {
   "cell_type": "code",
   "outputs": [],
   "source": [
    "clustering_algorithm_name = 'AffinityPropagation_clustering'\n",
    "dataset_name = DATASET_FILE_NAME\n",
    "results_path = r'../results/metrics/results.csv'"
   ],
   "metadata": {
    "collapsed": false,
    "is_executing": true
   },
   "id": "2a89f8abdf2d32c3",
   "execution_count": null
  },
  {
   "cell_type": "code",
   "outputs": [],
   "source": [
    "plot_clusters(processed_data, labels_pred, title=clustering_algorithm_name)"
   ],
   "metadata": {
    "collapsed": false,
    "is_executing": true
   },
   "id": "653c1a98a6ed4d3",
   "execution_count": null
  },
  {
   "cell_type": "code",
   "outputs": [],
   "source": [
    "labels_pred = map_clusters_to_ground_truth(labels_true, labels_pred)"
   ],
   "metadata": {
    "collapsed": false,
    "is_executing": true
   },
   "id": "3d0076b4ae610f08",
   "execution_count": null
  },
  {
   "cell_type": "code",
   "outputs": [],
   "source": [
    "generate_confusion_matrix(labels_true, labels_pred, N_CLASSES)"
   ],
   "metadata": {
    "collapsed": false,
    "is_executing": true
   },
   "id": "ea4d1d32fa40517",
   "execution_count": null
  },
  {
   "cell_type": "code",
   "outputs": [],
   "source": [
    "algorithm_params = affinity_propagation_clustering.get_params()\n",
    "algorithm_details = str(algorithm_params)"
   ],
   "metadata": {
    "collapsed": false,
    "is_executing": true
   },
   "id": "6b6c2314e696c6c2",
   "execution_count": null
  },
  {
   "cell_type": "code",
   "outputs": [],
   "source": [
    "# Evaluate and save results\n",
    "evaluate_clustering(X=processed_data, labels_true=labels_true, labels_pred=labels_pred,\n",
    "                    clus_algo_name=clustering_algorithm_name, dataset_name=dataset_name, \n",
    "                    results_path=results_path, algorithm_details=algorithm_details, \n",
    "                    running_time=running_time)"
   ],
   "metadata": {
    "collapsed": false,
    "is_executing": true
   },
   "id": "49838adcea0d4cb7",
   "execution_count": null
  }
 ],
 "metadata": {
  "kernelspec": {
   "display_name": "Python 3",
   "language": "python",
   "name": "python3"
  },
  "language_info": {
   "codemirror_mode": {
    "name": "ipython",
    "version": 2
   },
   "file_extension": ".py",
   "mimetype": "text/x-python",
   "name": "python",
   "nbconvert_exporter": "python",
   "pygments_lexer": "ipython2",
   "version": "2.7.6"
  }
 },
 "nbformat": 4,
 "nbformat_minor": 5
}
