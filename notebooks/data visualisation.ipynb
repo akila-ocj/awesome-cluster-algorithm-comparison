{
 "cells": [
  {
   "cell_type": "code",
   "execution_count": 1,
   "id": "initial_id",
   "metadata": {
    "collapsed": true,
    "ExecuteTime": {
     "end_time": "2024-02-16T16:42:23.834581400Z",
     "start_time": "2024-02-16T16:42:22.720314400Z"
    }
   },
   "outputs": [],
   "source": [
    "import pandas as pd\n",
    "import numpy as np\n",
    "from sklearn.model_selection import train_test_split\n",
    "import warnings\n",
    "from src.utils_clustering_v2 import load_labels_from_file, map_clusters_to_ground_truth, evaluate_clustering, \\\n",
    "    generate_confusion_matrix\n",
    "\n",
    "# Ignore all warnings\n",
    "warnings.filterwarnings(\"ignore\")\n",
    "DATASET_FILE_NAME = \"s1\"\n",
    "file_path = rf'..\\data\\processed\\{DATASET_FILE_NAME}.txt'\n",
    "processed_data = pd.read_csv(file_path)\n",
    "LABELS_FILE_NAME = 's1-label'\n",
    "labels_true = load_labels_from_file(rf'..\\data\\label\\{LABELS_FILE_NAME}.pa', 15)"
   ]
  },
  {
   "cell_type": "code",
   "outputs": [],
   "source": [],
   "metadata": {
    "collapsed": false
   },
   "id": "56b6fd91a263ab1e"
  }
 ],
 "metadata": {
  "kernelspec": {
   "display_name": "Python 3",
   "language": "python",
   "name": "python3"
  },
  "language_info": {
   "codemirror_mode": {
    "name": "ipython",
    "version": 2
   },
   "file_extension": ".py",
   "mimetype": "text/x-python",
   "name": "python",
   "nbconvert_exporter": "python",
   "pygments_lexer": "ipython2",
   "version": "2.7.6"
  }
 },
 "nbformat": 4,
 "nbformat_minor": 5
}
