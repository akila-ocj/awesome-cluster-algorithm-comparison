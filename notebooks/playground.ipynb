{
 "cells": [
  {
   "cell_type": "code",
   "execution_count": 21,
   "id": "initial_id",
   "metadata": {
    "collapsed": true,
    "ExecuteTime": {
     "end_time": "2024-03-06T00:11:00.509199700Z",
     "start_time": "2024-03-06T00:11:00.494418Z"
    }
   },
   "outputs": [],
   "source": [
    "import numpy as np\n",
    "from matplotlib import pyplot as plt"
   ]
  },
  {
   "cell_type": "code",
   "outputs": [],
   "source": [
    "# Generate eps_exponents and calculate eps_values\n",
    "eps_exponents = np.random.uniform(-5, -1, 2000)\n",
    "eps_values = 10 ** eps_exponents\n"
   ],
   "metadata": {
    "collapsed": false,
    "ExecuteTime": {
     "end_time": "2024-03-06T00:11:00.537280300Z",
     "start_time": "2024-03-06T00:11:00.507175700Z"
    }
   },
   "id": "4400d359b0d9f131",
   "execution_count": 22
  },
  {
   "cell_type": "code",
   "outputs": [
    {
     "data": {
      "text/plain": "<Figure size 640x480 with 1 Axes>",
      "image/png": "[encoded data removed]"
     },
     "metadata": {},
     "output_type": "display_data"
    }
   ],
   "source": [
    "import matplotlib.pyplot as plt\n",
    "\n",
    "count, bins, ignored = plt.hist(eps_exponents, 15, density=True)\n",
    "plt.plot(bins, np.ones_like(bins), linewidth=2, color='r')\n",
    "plt.show()"
   ],
   "metadata": {
    "collapsed": false,
    "ExecuteTime": {
     "end_time": "2024-03-06T00:11:00.604894100Z",
     "start_time": "2024-03-06T00:11:00.528061400Z"
    }
   },
   "id": "a1e685a4483318a6",
   "execution_count": 23
  },
  {
   "cell_type": "code",
   "outputs": [
    {
     "name": "stdout",
     "output_type": "stream",
     "text": [
      "0.02126361129944298\n"
     ]
    }
   ],
   "source": [
    "for value in eps_values:\n",
    "    if 0.0212< value < 0.0213:\n",
    "        print(value)"
   ],
   "metadata": {
    "collapsed": false,
    "ExecuteTime": {
     "end_time": "2024-03-06T00:11:00.649530900Z",
     "start_time": "2024-03-06T00:11:00.602820400Z"
    }
   },
   "id": "d569748dbf14dc74",
   "execution_count": 24
  },
  {
   "cell_type": "code",
   "outputs": [
    {
     "name": "stdout",
     "output_type": "stream",
     "text": [
      "{'min_samples': [2, 29, 57, 84, 112, 139, 167, 194, 222, 250], 'xi': [0.001, 0.01, 0.02, 0.05, 0.1, 0.15, 0.2], 'min_cluster_size': [0.01, 0.02, 0.05, 0.1, 0.15, 0.2, 50, 100, 150, 200, 250, 300, 350, 400, 450, 500]}\n"
     ]
    }
   ],
   "source": [
    "import numpy as np\n",
    "\n",
    "def generate_search_domains(data_size, feature_count):\n",
    "    \"\"\"\n",
    "    Generates search domains for the OPTICS clustering algorithm hyperparameters.\n",
    "    \n",
    "    Parameters:\n",
    "    - data_size: int, the total number of points in the dataset.\n",
    "    - feature_count: int, the number of features in the dataset.\n",
    "    \n",
    "    Returns:\n",
    "    - A dictionary with search domains for 'min_samples', 'xi', and 'min_cluster_size'.\n",
    "    \"\"\"\n",
    "    \n",
    "    # Define dynamic range for min_samples based on data size and feature count\n",
    "    min_samples_start = 2\n",
    "    min_samples_end = max(50, int(data_size * 0.05), feature_count * 2)  # Adjust this logic based on your dataset\n",
    "    min_samples_domain = np.linspace(min_samples_start, min_samples_end, num=10, dtype=int).tolist()\n",
    "    \n",
    "    # Define xi search domain based on expert knowledge\n",
    "    xi_domain = [0.001, 0.01, 0.02, 0.05, 0.1, 0.15, 0.2]\n",
    "    \n",
    "    # Define min_cluster_size search domain both as a fraction and absolute numbers\n",
    "    min_cluster_size_fraction_domain = [0.01, 0.02, 0.05, 0.1, 0.15, 0.2]\n",
    "    min_cluster_size_absolute_start = int(data_size * 0.01)  # 1% of data size\n",
    "    min_cluster_size_absolute_end = max(50, int(data_size * 0.1))  # up to 10% of data size, adjust as necessary\n",
    "    min_cluster_size_absolute_domain = np.linspace(min_cluster_size_absolute_start, min_cluster_size_absolute_end, num=10, dtype=int).tolist()\n",
    "    \n",
    "    # Combine fraction and absolute domains for min_cluster_size\n",
    "    min_cluster_size_domain = min_cluster_size_fraction_domain + min_cluster_size_absolute_domain\n",
    "    \n",
    "    return {\n",
    "        'min_samples': min_samples_domain,\n",
    "        'xi': xi_domain,\n",
    "        'min_cluster_size': min_cluster_size_domain\n",
    "    }\n",
    "\n",
    "# Example usage\n",
    "data_size = 5000  # Adjust with your dataset size\n",
    "feature_count = 2  # Adjust with the number of features in your dataset\n",
    "search_domains = generate_search_domains(data_size, feature_count)\n",
    "print(search_domains)\n"
   ],
   "metadata": {
    "collapsed": false,
    "ExecuteTime": {
     "end_time": "2024-03-06T00:11:00.649530900Z",
     "start_time": "2024-03-06T00:11:00.619574900Z"
    }
   },
   "id": "24f221ada6e44f25",
   "execution_count": 25
  },
  {
   "cell_type": "code",
   "outputs": [
    {
     "name": "stdout",
     "output_type": "stream",
     "text": [
      "{'min_samples': [2, 28, 54, 80, 106, 133, 159, 185, 211, 237, 264, 290, 316, 342, 368, 395, 421, 447, 473, 500], 'xi': [0.001, 0.005, 0.01, 0.02, 0.05, 0.1, 0.15, 0.2, 0.25, 0.3], 'min_cluster_size': [0.005, 0.01, 0.02, 0.05, 0.1, 0.15, 0.2, 0.25, 25, 76, 127, 178, 230, 281, 332, 384, 435, 486, 538, 589, 640, 692, 743, 794, 846, 897, 948, 1000]}\n"
     ]
    }
   ],
   "source": [
    "import numpy as np\n",
    "\n",
    "def generate_expanded_search_domains(data_size, feature_count):\n",
    "    \"\"\"\n",
    "    Generates expanded search domains for the OPTICS clustering algorithm hyperparameters.\n",
    "    \n",
    "    Parameters:\n",
    "    - data_size: int, the total number of points in the dataset.\n",
    "    - feature_count: int, the number of features in the dataset.\n",
    "    \n",
    "    Returns:\n",
    "    - A dictionary with expanded search domains for 'min_samples', 'xi', and 'min_cluster_size'.\n",
    "    \"\"\"\n",
    "    \n",
    "    # Expand dynamic range for min_samples based on data size and feature count\n",
    "    min_samples_start = 2\n",
    "    # Increase the upper limit for min_samples significantly\n",
    "    min_samples_end = max(100, int(data_size * 0.1), feature_count * 3)  # More aggressive adjustment\n",
    "    min_samples_domain = np.linspace(min_samples_start, min_samples_end, num=20, dtype=int).tolist()  # Increase number of points\n",
    "    \n",
    "    # Expand xi search domain to cover a wider range of values\n",
    "    xi_domain = [0.001, 0.005, 0.01, 0.02, 0.05, 0.1, 0.15, 0.2, 0.25, 0.3]  # Adding more granularity and higher values\n",
    "    \n",
    "    # Expand min_cluster_size search domain, considering both fractions and absolute numbers\n",
    "    # Allow for even smaller fractions and higher absolute numbers\n",
    "    min_cluster_size_fraction_domain = [0.005, 0.01, 0.02, 0.05, 0.1, 0.15, 0.2, 0.25]\n",
    "    min_cluster_size_absolute_start = int(data_size * 0.005)  # Allowing for smaller clusters\n",
    "    min_cluster_size_absolute_end = max(100, int(data_size * 0.2))  # Allowing for larger clusters\n",
    "    min_cluster_size_absolute_domain = np.linspace(min_cluster_size_absolute_start, min_cluster_size_absolute_end, num=20, dtype=int).tolist()  # Increase number of points\n",
    "    \n",
    "    # Combine fraction and absolute domains for min_cluster_size\n",
    "    min_cluster_size_domain = sorted(set(min_cluster_size_fraction_domain + min_cluster_size_absolute_domain))  # Remove duplicates and sort\n",
    "    \n",
    "    return {\n",
    "        'min_samples': min_samples_domain,\n",
    "        'xi': xi_domain,\n",
    "        'min_cluster_size': min_cluster_size_domain\n",
    "    }\n",
    "\n",
    "# Example usage\n",
    "data_size = 5000  # Adjust with your dataset size\n",
    "feature_count = 2  # Adjust with the number of features in your dataset\n",
    "expanded_search_domains = generate_expanded_search_domains(data_size, feature_count)\n",
    "print(expanded_search_domains)\n"
   ],
   "metadata": {
    "collapsed": false,
    "ExecuteTime": {
     "end_time": "2024-03-06T12:36:32.430304300Z",
     "start_time": "2024-03-06T12:36:32.423313900Z"
    }
   },
   "id": "1a09e6686ced77b5",
   "execution_count": 2
  }
 ],
 "metadata": {
  "kernelspec": {
   "display_name": "Python 3",
   "language": "python",
   "name": "python3"
  },
  "language_info": {
   "codemirror_mode": {
    "name": "ipython",
    "version": 2
   },
   "file_extension": ".py",
   "mimetype": "text/x-python",
   "name": "python",
   "nbconvert_exporter": "python",
   "pygments_lexer": "ipython2",
   "version": "2.7.6"
  }
 },
 "nbformat": 4,
 "nbformat_minor": 5
}
